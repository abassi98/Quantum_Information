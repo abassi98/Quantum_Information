{
 "cells": [
  {
   "cell_type": "markdown",
   "metadata": {},
   "source": [
    "# Exercise 1"
   ]
  },
  {
   "cell_type": "markdown",
   "metadata": {},
   "source": [
    "In this notebook, we show all the outputs for the exercise 1 of the course of Qauntum Information. Also a .txt output file will be avaiable in the same directory if some problems arise with the .ipynb file. The directory contatatins the main .f programs, all the executable files .out and the output files (.txt and .ipynb)"
   ]
  },
  {
   "cell_type": "code",
   "execution_count": 2,
   "metadata": {},
   "outputs": [],
   "source": [
    "import subprocess"
   ]
  },
  {
   "cell_type": "markdown",
   "metadata": {},
   "source": [
    "# 2.a)"
   ]
  },
  {
   "cell_type": "markdown",
   "metadata": {},
   "source": [
    "The program is \"add_numbers.f\".\n",
    "Firstly, we sum 2000000 and 1 together by storing them in the type INTEGER*2. We get an overflow error; the  program is not even compiled because 2000000 exceeds the space avaiable in order to be stored in an INTEGER2.\n",
    "However,  with the type INTEGER*4, we get the desired result."
   ]
  },
  {
   "cell_type": "code",
   "execution_count": 4,
   "metadata": {},
   "outputs": [
    {
     "name": "stdout",
     "output_type": "stream",
     "text": [
      " The sum of the two number is      2000001\n",
      "\n"
     ]
    }
   ],
   "source": [
    "sottoprocesso = subprocess.run('./add_numbers_integer4.out', stdout=subprocess.PIPE, stderr=subprocess.PIPE, encoding=\"utf-8\")\n",
    "type(sottoprocesso.stdout)\n",
    "print(sottoprocesso.stdout)\n"
   ]
  },
  {
   "cell_type": "markdown",
   "metadata": {},
   "source": [
    "# 2.b)\n"
   ]
  },
  {
   "cell_type": "markdown",
   "metadata": {},
   "source": [
    "The program is real_numbers.f\".\n",
    "First, we sum the two numbers ($\\pi \\;10^{32}$, $\\sqrt{2}\\;10^{21}$) in single precision (REAL):"
   ]
  },
  {
   "cell_type": "code",
   "execution_count": 14,
   "metadata": {},
   "outputs": [
    {
     "name": "stdout",
     "output_type": "stream",
     "text": [
      " The sum is:    3.14159278E+32\n",
      "\n"
     ]
    }
   ],
   "source": [
    "sottoprocesso = subprocess.run('./real_sum_single.out', stdout=subprocess.PIPE, stderr=subprocess.PIPE, encoding=\"utf-8\")\n",
    "type(sottoprocesso.stdout)\n",
    "print(sottoprocesso.stdout)"
   ]
  },
  {
   "cell_type": "markdown",
   "metadata": {},
   "source": [
    "Then, we sum the two numbers in DOUBLE PRECISION:"
   ]
  },
  {
   "cell_type": "code",
   "execution_count": 15,
   "metadata": {},
   "outputs": [
    {
     "name": "stdout",
     "output_type": "stream",
     "text": [
      " The sum is:    3.1415927798296973E+032\n",
      "\n"
     ]
    }
   ],
   "source": [
    "sottoprocesso = subprocess.run('./real_sum_double.out', stdout=subprocess.PIPE, stderr=subprocess.PIPE, encoding=\"utf-8\")\n",
    "type(sottoprocesso.stdout)\n",
    "print(sottoprocesso.stdout)"
   ]
  },
  {
   "cell_type": "markdown",
   "metadata": {},
   "source": [
    "We notice that the result is now more accurate."
   ]
  },
  {
   "cell_type": "markdown",
   "metadata": {},
   "source": [
    "# 3)"
   ]
  },
  {
   "cell_type": "markdown",
   "metadata": {},
   "source": [
    "While the program \"matrices.f\" computes two generic matrices given as input, the program \"mat_time.f\" multuplies together two 2000 per 2000 matrices A,B of given types. In particular, A(i,j)=i+(j-1)*2000 and B(i,j)=i+j. \n",
    "We use three different methods. First, we compute the standard row par column multiplication. Second, we transpose A and we perform the column par column multiplication. We notice nearly a halving of the computation time. Last, we use the built-i function MATMUL and notice that in this case the computation time is about one hundred of the time needed for our algorithm. For each methos we try different optimization flags (none,-O,-O1,-O2,-O3)."
   ]
  },
  {
   "cell_type": "code",
   "execution_count": 8,
   "metadata": {},
   "outputs": [
    {
     "name": "stdout",
     "output_type": "stream",
     "text": [
      " Standard loop computation time is:     70.7702026    \n",
      " TRansposing time is:     2.58789062E-02\n",
      " Second loop computation time is:     33.8462982    \n",
      " BUilt-in mult. time is:   0.368408203    \n",
      "\n"
     ]
    }
   ],
   "source": [
    "sottoprocesso = subprocess.run('./mat_time.out', stdout=subprocess.PIPE, stderr=subprocess.PIPE, encoding=\"utf-8\")\n",
    "type(sottoprocesso.stdout)\n",
    "print(sottoprocesso.stdout)\n"
   ]
  },
  {
   "cell_type": "code",
   "execution_count": 9,
   "metadata": {},
   "outputs": [
    {
     "name": "stdout",
     "output_type": "stream",
     "text": [
      " Standard loop computation time is:     29.4000187    \n",
      " TRansposing time is:     2.43835449E-02\n",
      " Second loop computation time is:     9.57137489    \n",
      " BUilt-in mult. time is:   0.363685608    \n",
      "\n"
     ]
    }
   ],
   "source": [
    "sottoprocesso = subprocess.run('./mat_time_O.out', stdout=subprocess.PIPE, stderr=subprocess.PIPE, encoding=\"utf-8\")\n",
    "type(sottoprocesso.stdout)\n",
    "print(sottoprocesso.stdout)\n"
   ]
  },
  {
   "cell_type": "code",
   "execution_count": 10,
   "metadata": {},
   "outputs": [
    {
     "name": "stdout",
     "output_type": "stream",
     "text": [
      " Standard loop computation time is:     29.2868328    \n",
      " TRansposing time is:     2.57835388E-02\n",
      " Second loop computation time is:     9.73576355    \n",
      " BUilt-in mult. time is:   0.402210236    \n",
      "\n"
     ]
    }
   ],
   "source": [
    "sottoprocesso = subprocess.run('./mat_time_O1.out', stdout=subprocess.PIPE, stderr=subprocess.PIPE, encoding=\"utf-8\")\n",
    "type(sottoprocesso.stdout)\n",
    "print(sottoprocesso.stdout)\n"
   ]
  },
  {
   "cell_type": "code",
   "execution_count": 11,
   "metadata": {},
   "outputs": [
    {
     "name": "stdout",
     "output_type": "stream",
     "text": [
      " Standard loop computation time is:     30.4819984    \n",
      " TRansposing time is:     2.51808167E-02\n",
      " Second loop computation time is:     9.58024979    \n",
      " BUilt-in mult. time is:   0.366939545    \n",
      "\n"
     ]
    }
   ],
   "source": [
    "sottoprocesso = subprocess.run('./mat_time_O2.out', stdout=subprocess.PIPE, stderr=subprocess.PIPE, encoding=\"utf-8\")\n",
    "type(sottoprocesso.stdout)\n",
    "print(sottoprocesso.stdout)\n"
   ]
  },
  {
   "cell_type": "code",
   "execution_count": 12,
   "metadata": {},
   "outputs": [
    {
     "name": "stdout",
     "output_type": "stream",
     "text": [
      " Standard loop computation time is:     10.0363150    \n",
      " TRansposing time is:     2.88171768E-02\n",
      " Second loop computation time is:     9.50196934    \n",
      " BUilt-in mult. time is:   0.369306564    \n",
      "\n"
     ]
    }
   ],
   "source": [
    "sottoprocesso = subprocess.run('./mat_time_O3.out', stdout=subprocess.PIPE, stderr=subprocess.PIPE, encoding=\"utf-8\")\n",
    "type(sottoprocesso.stdout)\n",
    "print(sottoprocesso.stdout)\n"
   ]
  },
  {
   "cell_type": "markdown",
   "metadata": {},
   "source": [
    "To conclude, we observe a significant computation time decreasing for the column par column multiplication with respect to the standard one. Moreover, the optimization flags do their job, increasing the amount of time saved. In particular, the -O3 flag seems to correct the order of the loop because we gain almost the same computation time. "
   ]
  }
 ],
 "metadata": {
  "kernelspec": {
   "display_name": "Python 3",
   "language": "python",
   "name": "python3"
  },
  "language_info": {
   "codemirror_mode": {
    "name": "ipython",
    "version": 3
   },
   "file_extension": ".py",
   "mimetype": "text/x-python",
   "name": "python",
   "nbconvert_exporter": "python",
   "pygments_lexer": "ipython3",
   "version": "3.8.5"
  }
 },
 "nbformat": 4,
 "nbformat_minor": 4
}
